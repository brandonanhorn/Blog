{
 "cells": [
  {
   "cell_type": "markdown",
   "metadata": {},
   "source": [
    "Title: Outliers Aren't Always \"Liers\"\n",
    "Date: 2019-12-06 11:30\n",
    "Slug: blogging"
   ]
  },
  {
   "cell_type": "markdown",
   "metadata": {},
   "source": [
    "Outliers Aren't Always \"Liers\""
   ]
  },
  {
   "cell_type": "code",
   "execution_count": 1,
   "metadata": {},
   "outputs": [],
   "source": [
    "from IPython.core.display import HTML\n",
    "import pandas as pd\n",
    "import chart"
   ]
  },
  {
   "cell_type": "code",
   "execution_count": 2,
   "metadata": {},
   "outputs": [],
   "source": [
    "df = pd.DataFrame([\n",
    "    ['Ryan', 'https://duryan00.github.io/blog/'],\n",
    "    ['Hock', 'https://teckhockng.github.io/blog/'],\n",
    "    ['Kavitha', 'https://kavitha-shashidharan.github.io/blog/'],\n",
    "    ['Benoit', 'https://bolive84.github.io/Blog/'],\n",
    "    ['Anika', 'https://nawarani.github.io/blog/']\n",
    "], columns=['name', 'link'])"
   ]
  },
  {
   "cell_type": "code",
   "execution_count": 3,
   "metadata": {},
   "outputs": [
    {
     "data": {
      "text/html": [
       "<table border=\"1\" class=\"dataframe\">\n",
       "  <thead>\n",
       "    <tr style=\"text-align: right;\">\n",
       "      <th></th>\n",
       "      <th>name</th>\n",
       "      <th>link</th>\n",
       "    </tr>\n",
       "  </thead>\n",
       "  <tbody>\n",
       "    <tr>\n",
       "      <th>0</th>\n",
       "      <td>Ryan</td>\n",
       "      <td>https://duryan00.github.io/blog/</td>\n",
       "    </tr>\n",
       "    <tr>\n",
       "      <th>1</th>\n",
       "      <td>Hock</td>\n",
       "      <td>https://teckhockng.github.io/blog/</td>\n",
       "    </tr>\n",
       "    <tr>\n",
       "      <th>2</th>\n",
       "      <td>Kavitha</td>\n",
       "      <td>https://kavitha-shashidharan.github.io/blog/</td>\n",
       "    </tr>\n",
       "    <tr>\n",
       "      <th>3</th>\n",
       "      <td>Benoit</td>\n",
       "      <td>https://bolive84.github.io/Blog/</td>\n",
       "    </tr>\n",
       "    <tr>\n",
       "      <th>4</th>\n",
       "      <td>Anika</td>\n",
       "      <td>https://nawarani.github.io/blog/</td>\n",
       "    </tr>\n",
       "  </tbody>\n",
       "</table>"
      ],
      "text/plain": [
       "<IPython.core.display.HTML object>"
      ]
     },
     "execution_count": 3,
     "metadata": {},
     "output_type": "execute_result"
    }
   ],
   "source": [
    "HTML(df.to_html())"
   ]
  },
  {
   "cell_type": "code",
   "execution_count": 4,
   "metadata": {},
   "outputs": [
    {
     "name": "stdout",
     "output_type": "stream",
     "text": [
      "    x    \n",
      "    x x  \n",
      "    x x  \n",
      "    x x  \n",
      "  x x x  \n",
      "  x x x  \n",
      "x x x x  \n",
      "x x x x x\n",
      "x x x x x\n",
      "x x x x x\n",
      "\n"
     ]
    }
   ],
   "source": [
    "import numpy as np\n",
    "\n",
    "chart.histogram(np.random.normal(100, 20, size=100), mark='x')"
   ]
  },
  {
   "cell_type": "markdown",
   "metadata": {},
   "source": [
    "This is an image."
   ]
  },
  {
   "cell_type": "markdown",
   "metadata": {},
   "source": [
    "`![](https://pbs.twimg.com/profile_images/1026821498756112384/HDsIA8KG_400x400.jpg)`\n",
    "\n",
    "![](https://pbs.twimg.com/profile_images/1026821498756112384/HDsIA8KG_400x400.jpg)\n",
    "\n",
    "This is the html version:\n",
    "\n",
    "`<img src='https://pbs.twimg.com/profile_images/1026821498756112384/HDsIA8KG_400x400.jpg' width=\"300\">`\n",
    "\n",
    "<img src='https://pbs.twimg.com/profile_images/1026821498756112384/HDsIA8KG_400x400.jpg' width=\"300\">"
   ]
  }
 ],
 "metadata": {
  "kernelspec": {
   "display_name": "Python 3",
   "language": "python",
   "name": "python3"
  },
  "language_info": {
   "codemirror_mode": {
    "name": "ipython",
    "version": 3
   },
   "file_extension": ".py",
   "mimetype": "text/x-python",
   "name": "python",
   "nbconvert_exporter": "python",
   "pygments_lexer": "ipython3",
   "version": "3.7.4"
  }
 },
 "nbformat": 4,
 "nbformat_minor": 2
}

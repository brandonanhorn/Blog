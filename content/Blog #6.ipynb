{
 "cells": [
  {
   "cell_type": "markdown",
   "metadata": {},
   "source": [
    "First off, I hope everyone reading this is safe and healthy, COVID-19 has brought lots of families and communities to heartache, but you have to remember it won't be here forever. \n",
    "\n",
    "Todays blog will be about automation. More specifically, about using the package called PyAutoGui, to automate actions in a video game called Runescape.\n",
    "\n",
    "Runescape is a is Massive Multiplayer Online Role Playing Game(MMORP) which has multiple skills that you level up to make your character stronger. Most of these skills take long hours of repetitive mouse clicking, which I am personally not interested in doing. So, inspired by \"Automate the Boring Stuff with Python\", written by Al Sweigart, I decided to automate the \"skilling\" aspect of Runescape. \n",
    "\n",
    "To start off, simply install pyautogui. \n",
    "\n",
    "Type or copy the code below into your terminal."
   ]
  },
  {
   "cell_type": "code",
   "execution_count": 2,
   "metadata": {},
   "outputs": [],
   "source": [
    "# pip install pyautogui"
   ]
  },
  {
   "cell_type": "markdown",
   "metadata": {},
   "source": [
    "After install, you import pyautogui and its features in your text editor using the code:"
   ]
  },
  {
   "cell_type": "code",
   "execution_count": 3,
   "metadata": {},
   "outputs": [],
   "source": [
    "import pyautogui\n",
    "from pyautogui import press, typewrite, hotkey, screenshot"
   ]
  },
  {
   "cell_type": "markdown",
   "metadata": {},
   "source": [
    "It should be noted that if you are following along/using the code for personal use that the following code may not work on your computer - you will need to tailor all of the code to fit your screen size. \n",
    "\n",
    "This code will work on a 13\" screen."
   ]
  },
  {
   "cell_type": "code",
   "execution_count": null,
   "metadata": {},
   "outputs": [],
   "source": []
  },
  {
   "cell_type": "code",
   "execution_count": null,
   "metadata": {},
   "outputs": [],
   "source": []
  },
  {
   "cell_type": "code",
   "execution_count": null,
   "metadata": {},
   "outputs": [],
   "source": []
  }
 ],
 "metadata": {
  "kernelspec": {
   "display_name": "Python 3",
   "language": "python",
   "name": "python3"
  },
  "language_info": {
   "codemirror_mode": {
    "name": "ipython",
    "version": 3
   },
   "file_extension": ".py",
   "mimetype": "text/x-python",
   "name": "python",
   "nbconvert_exporter": "python",
   "pygments_lexer": "ipython3",
   "version": "3.7.4"
  }
 },
 "nbformat": 4,
 "nbformat_minor": 2
}
